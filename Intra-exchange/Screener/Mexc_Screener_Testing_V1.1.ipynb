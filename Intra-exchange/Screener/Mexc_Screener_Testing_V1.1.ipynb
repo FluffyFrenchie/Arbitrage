{
 "cells": [
  {
   "cell_type": "code",
   "execution_count": 3,
   "id": "57b85f19-530d-40d8-a3ae-9df54bf91492",
   "metadata": {},
   "outputs": [
    {
     "ename": "AttributeError",
     "evalue": "module 'ccxt' has no attribute 'mexc3'",
     "output_type": "error",
     "traceback": [
      "\u001b[1;31m---------------------------------------------------------------------------\u001b[0m",
      "\u001b[1;31mAttributeError\u001b[0m                            Traceback (most recent call last)",
      "Cell \u001b[1;32mIn[3], line 11\u001b[0m\n\u001b[0;32m      8\u001b[0m MEXC_API_KEY \u001b[38;5;241m=\u001b[39m \u001b[38;5;124m'\u001b[39m\u001b[38;5;124mmx0vglYmgOGC30vOnC\u001b[39m\u001b[38;5;124m'\u001b[39m\n\u001b[0;32m      9\u001b[0m MEXC_API_SECRET \u001b[38;5;241m=\u001b[39m \u001b[38;5;124m'\u001b[39m\u001b[38;5;124mcbf7b2e829dc4cec9aabd811efa809fd\u001b[39m\u001b[38;5;124m'\u001b[39m\n\u001b[1;32m---> 11\u001b[0m mexc \u001b[38;5;241m=\u001b[39m ccxt\u001b[38;5;241m.\u001b[39mmexc3({\n\u001b[0;32m     12\u001b[0m     \u001b[38;5;124m'\u001b[39m\u001b[38;5;124mapiKey\u001b[39m\u001b[38;5;124m'\u001b[39m: MEXC_API_KEY,\n\u001b[0;32m     13\u001b[0m     \u001b[38;5;124m'\u001b[39m\u001b[38;5;124msecret\u001b[39m\u001b[38;5;124m'\u001b[39m: MEXC_API_SECRET,\n\u001b[0;32m     14\u001b[0m     \u001b[38;5;124m'\u001b[39m\u001b[38;5;124menableRateLimit\u001b[39m\u001b[38;5;124m'\u001b[39m: \u001b[38;5;28;01mTrue\u001b[39;00m,\n\u001b[0;32m     15\u001b[0m     \u001b[38;5;124m'\u001b[39m\u001b[38;5;124moptions\u001b[39m\u001b[38;5;124m'\u001b[39m: {\u001b[38;5;124m'\u001b[39m\u001b[38;5;124madjustForTimeDifference\u001b[39m\u001b[38;5;124m'\u001b[39m: \u001b[38;5;28;01mTrue\u001b[39;00m}\n\u001b[0;32m     16\u001b[0m })\n",
      "\u001b[1;31mAttributeError\u001b[0m: module 'ccxt' has no attribute 'mexc3'"
     ]
    }
   ],
   "source": [
    "import ccxt\n",
    "import time\n",
    "import datetime\n",
    "from zoneinfo import ZoneInfo\n",
    "import concurrent.futures\n",
    "\n",
    "# Connect to MEXC API\n",
    "MEXC_API_KEY = 'mx0vglYmgOGC30vOnC'\n",
    "MEXC_API_SECRET = 'cbf7b2e829dc4cec9aabd811efa809fd'\n",
    "\n",
    "mexc = ccxt.mexc3({\n",
    "    'apiKey': MEXC_API_KEY,\n",
    "    'secret': MEXC_API_SECRET,\n",
    "    'enableRateLimit': True,\n",
    "    'options': {'adjustForTimeDifference': True}\n",
    "})\n"
   ]
  },
  {
   "cell_type": "code",
   "execution_count": 3,
   "id": "123aacf1-bddb-4c87-998b-bd962133520b",
   "metadata": {},
   "outputs": [
    {
     "name": "stdout",
     "output_type": "stream",
     "text": [
      "❌ Error fetching tradable tokens from MEXC: mexc {\"code\":700003,\"msg\":\"Timestamp for this request is outside of the recvWindow.\"}\n",
      "❌ No tradable tokens found on MEXC. Retrying in 10 seconds...\n",
      "❌ Error fetching tradable tokens from MEXC: mexc {\"code\":700003,\"msg\":\"Timestamp for this request is outside of the recvWindow.\"}\n",
      "❌ No tradable tokens found on MEXC. Retrying in 10 seconds...\n"
     ]
    },
    {
     "ename": "KeyboardInterrupt",
     "evalue": "",
     "output_type": "error",
     "traceback": [
      "\u001b[1;31m---------------------------------------------------------------------------\u001b[0m",
      "\u001b[1;31mKeyboardInterrupt\u001b[0m                         Traceback (most recent call last)",
      "Cell \u001b[1;32mIn[3], line 109\u001b[0m\n\u001b[0;32m    106\u001b[0m             time\u001b[38;5;241m.\u001b[39msleep(\u001b[38;5;241m10\u001b[39m)\n\u001b[0;32m    108\u001b[0m \u001b[38;5;28;01mif\u001b[39;00m \u001b[38;5;18m__name__\u001b[39m \u001b[38;5;241m==\u001b[39m \u001b[38;5;124m\"\u001b[39m\u001b[38;5;124m__main__\u001b[39m\u001b[38;5;124m\"\u001b[39m:\n\u001b[1;32m--> 109\u001b[0m     main()\n",
      "Cell \u001b[1;32mIn[3], line 98\u001b[0m, in \u001b[0;36mmain\u001b[1;34m()\u001b[0m\n\u001b[0;32m     96\u001b[0m \u001b[38;5;28;01mif\u001b[39;00m \u001b[38;5;129;01mnot\u001b[39;00m tradable_tokens:\n\u001b[0;32m     97\u001b[0m     \u001b[38;5;28mprint\u001b[39m(\u001b[38;5;124mf\u001b[39m\u001b[38;5;124m\"\u001b[39m\u001b[38;5;124m❌ No tradable tokens found on MEXC. Retrying in 10 seconds...\u001b[39m\u001b[38;5;124m\"\u001b[39m)\n\u001b[1;32m---> 98\u001b[0m     time\u001b[38;5;241m.\u001b[39msleep(\u001b[38;5;241m10\u001b[39m)\n\u001b[0;32m     99\u001b[0m     \u001b[38;5;28;01mcontinue\u001b[39;00m\n\u001b[0;32m    100\u001b[0m \u001b[38;5;28mprint\u001b[39m(\u001b[38;5;124mf\u001b[39m\u001b[38;5;124m\"\u001b[39m\u001b[38;5;124m🔄 Checking for arbitrage opportunities on MEXC...\u001b[39m\u001b[38;5;124m\"\u001b[39m)\n",
      "\u001b[1;31mKeyboardInterrupt\u001b[0m: "
     ]
    }
   ],
   "source": [
    "# Arbitrage settings\n",
    "SPREAD_THRESHOLD = 0.1 / 100  # 0.1% for testing\n",
    "MIN_VOLUME = 50000  # Minimum 24h volume required (in USDT)\n",
    "CHECK_INTERVAL = 5  # Check every 5 seconds\n",
    "LOCAL_TIMEZONE = ZoneInfo(\"Asia/Jakarta\")  # Change this to your local timezone\n",
    "\n",
    "# Estimated trading fee\n",
    "TRADING_FEE = 0.001  # MEXC approx 0.1% per side\n",
    "\n",
    "# Cache for futures symbols\n",
    "futures_markets_cache = []\n",
    "\n",
    "def get_tradable_tokens(exchange):\n",
    "    try:\n",
    "        markets = exchange.load_markets()\n",
    "        tradable_tokens = []\n",
    "\n",
    "        global futures_markets_cache\n",
    "        futures_markets_cache = [symbol for symbol, market in markets.items() if market.get('future')]\n",
    "\n",
    "        for symbol, market in markets.items():\n",
    "            if not market.get('spot', False):\n",
    "                continue\n",
    "            if '/USDT' in symbol:\n",
    "                try:\n",
    "                    market_data = exchange.fetch_ticker(symbol)\n",
    "                    volume = market_data.get('quoteVolume', 0)\n",
    "                    if volume and volume >= MIN_VOLUME:\n",
    "                        tradable_tokens.append(symbol)\n",
    "                except Exception:\n",
    "                    continue\n",
    "        print(f\"✅ Found {len(tradable_tokens)} tradable tokens on MEXC\")\n",
    "        return tradable_tokens\n",
    "    except Exception as e:\n",
    "        print(f\"❌ Error fetching tradable tokens from MEXC: {e}\")\n",
    "        return []\n",
    "\n",
    "def get_price(exchange, symbol):\n",
    "    try:\n",
    "        ticker = exchange.fetch_ticker(symbol)\n",
    "        return ticker.get(\"last\", None)\n",
    "    except Exception:\n",
    "        return None\n",
    "\n",
    "def fetch_prices_concurrently(exchange, symbols):\n",
    "    prices = {}\n",
    "    def fetch(symbol):\n",
    "        prices[symbol] = get_price(exchange, symbol)\n",
    "    with concurrent.futures.ThreadPoolExecutor() as executor:\n",
    "        executor.map(fetch, symbols)\n",
    "    return prices\n",
    "\n",
    "def find_futures_symbol(spot_symbol):\n",
    "    base = spot_symbol.split('/')[0]\n",
    "    match = [f for f in futures_markets_cache if f.startswith(f\"{base}/USDT\") or f.startswith(f\"{base}-USDT\")]\n",
    "    return match[0] if match else None\n",
    "\n",
    "def check_intra_exchange_arbitrage(exchange, symbol, spot_prices, futures_prices):\n",
    "    spot_price = spot_prices.get(symbol)\n",
    "    futures_symbol = find_futures_symbol(symbol)\n",
    "\n",
    "    if not futures_symbol:\n",
    "        return\n",
    "\n",
    "    futures_price = futures_prices.get(futures_symbol)\n",
    "    if not spot_price or not futures_price:\n",
    "        return\n",
    "\n",
    "    spread = (futures_price - spot_price) / spot_price\n",
    "    net_profit = spread - (TRADING_FEE * 2)\n",
    "\n",
    "    if net_profit >= SPREAD_THRESHOLD:\n",
    "        timestamp = datetime.datetime.now(LOCAL_TIMEZONE).strftime('%Y-%m-%d %H:%M:%S %Z')\n",
    "        print(f\"🔍 Arbitrage Opportunity on MEXC: {symbol} | {timestamp}\")\n",
    "        print(f\"    ✅ Spot Price: {spot_price:.5f} USDT\")\n",
    "        print(f\"    ✅ Futures Price: {futures_price:.5f} USDT\")\n",
    "        print(f\"    ✅ Spread: {spread:.4%}\")\n",
    "        print(f\"    ✅ Net Profit After Fees: {net_profit:.4%}\")\n",
    "        print(f\"    ⚡ Execute arbitrage on MEXC\")\n",
    "        print(\"-\" * 60)\n",
    "\n",
    "def process_tokens(exchange, tokens):\n",
    "    futures_symbols = [find_futures_symbol(t) for t in tokens if find_futures_symbol(t)]\n",
    "\n",
    "    spot_prices = fetch_prices_concurrently(exchange, tokens)\n",
    "    futures_prices = fetch_prices_concurrently(exchange, futures_symbols)\n",
    "\n",
    "    with concurrent.futures.ThreadPoolExecutor() as executor:\n",
    "        futures = [executor.submit(check_intra_exchange_arbitrage, exchange, token, spot_prices, futures_prices) for token in tokens]\n",
    "        concurrent.futures.wait(futures)\n",
    "\n",
    "def main():\n",
    "    while True:\n",
    "        try:\n",
    "            tradable_tokens = get_tradable_tokens(mexc)\n",
    "            if not tradable_tokens:\n",
    "                print(f\"❌ No tradable tokens found on MEXC. Retrying in 10 seconds...\")\n",
    "                time.sleep(10)\n",
    "                continue\n",
    "            print(f\"🔄 Checking for arbitrage opportunities on MEXC...\")\n",
    "            process_tokens(mexc, tradable_tokens)\n",
    "            print(\"✅ Cycle complete. Waiting for next check...\")\n",
    "            time.sleep(CHECK_INTERVAL)\n",
    "        except Exception as e:\n",
    "            print(f\"❌ Error in main loop: {e}\")\n",
    "            time.sleep(10)\n",
    "\n",
    "if __name__ == \"__main__\":\n",
    "    main()"
   ]
  },
  {
   "cell_type": "code",
   "execution_count": 4,
   "id": "5972a813-33f8-4e26-932e-609b5a7afb5b",
   "metadata": {},
   "outputs": [
    {
     "name": "stdout",
     "output_type": "stream",
     "text": [
      "Requirement already satisfied: ccxt in c:\\users\\asus\\anaconda3\\lib\\site-packages (4.4.68)\n",
      "Collecting ccxt\n",
      "  Downloading ccxt-4.4.71-py2.py3-none-any.whl.metadata (131 kB)\n",
      "Requirement already satisfied: setuptools>=60.9.0 in c:\\users\\asus\\anaconda3\\lib\\site-packages (from ccxt) (75.1.0)\n",
      "Requirement already satisfied: certifi>=2018.1.18 in c:\\users\\asus\\anaconda3\\lib\\site-packages (from ccxt) (2025.1.31)\n",
      "Requirement already satisfied: requests>=2.18.4 in c:\\users\\asus\\anaconda3\\lib\\site-packages (from ccxt) (2.32.3)\n",
      "Requirement already satisfied: cryptography>=2.6.1 in c:\\users\\asus\\anaconda3\\lib\\site-packages (from ccxt) (43.0.0)\n",
      "Requirement already satisfied: typing-extensions>=4.4.0 in c:\\users\\asus\\anaconda3\\lib\\site-packages (from ccxt) (4.11.0)\n",
      "Requirement already satisfied: aiohttp<=3.10.11 in c:\\users\\asus\\anaconda3\\lib\\site-packages (from ccxt) (3.10.5)\n",
      "Requirement already satisfied: aiodns>=1.1.1 in c:\\users\\asus\\anaconda3\\lib\\site-packages (from ccxt) (3.2.0)\n",
      "Requirement already satisfied: yarl>=1.7.2 in c:\\users\\asus\\anaconda3\\lib\\site-packages (from ccxt) (1.11.0)\n",
      "Requirement already satisfied: pycares>=4.0.0 in c:\\users\\asus\\anaconda3\\lib\\site-packages (from aiodns>=1.1.1->ccxt) (4.5.0)\n",
      "Requirement already satisfied: aiohappyeyeballs>=2.3.0 in c:\\users\\asus\\anaconda3\\lib\\site-packages (from aiohttp<=3.10.11->ccxt) (2.4.0)\n",
      "Requirement already satisfied: aiosignal>=1.1.2 in c:\\users\\asus\\anaconda3\\lib\\site-packages (from aiohttp<=3.10.11->ccxt) (1.2.0)\n",
      "Requirement already satisfied: attrs>=17.3.0 in c:\\users\\asus\\anaconda3\\lib\\site-packages (from aiohttp<=3.10.11->ccxt) (23.1.0)\n",
      "Requirement already satisfied: frozenlist>=1.1.1 in c:\\users\\asus\\anaconda3\\lib\\site-packages (from aiohttp<=3.10.11->ccxt) (1.4.0)\n",
      "Requirement already satisfied: multidict<7.0,>=4.5 in c:\\users\\asus\\anaconda3\\lib\\site-packages (from aiohttp<=3.10.11->ccxt) (6.0.4)\n",
      "Requirement already satisfied: cffi>=1.12 in c:\\users\\asus\\anaconda3\\lib\\site-packages (from cryptography>=2.6.1->ccxt) (1.17.1)\n",
      "Requirement already satisfied: charset-normalizer<4,>=2 in c:\\users\\asus\\anaconda3\\lib\\site-packages (from requests>=2.18.4->ccxt) (3.3.2)\n",
      "Requirement already satisfied: idna<4,>=2.5 in c:\\users\\asus\\anaconda3\\lib\\site-packages (from requests>=2.18.4->ccxt) (3.7)\n",
      "Requirement already satisfied: urllib3<3,>=1.21.1 in c:\\users\\asus\\anaconda3\\lib\\site-packages (from requests>=2.18.4->ccxt) (2.2.3)\n",
      "Requirement already satisfied: pycparser in c:\\users\\asus\\anaconda3\\lib\\site-packages (from cffi>=1.12->cryptography>=2.6.1->ccxt) (2.21)\n",
      "Downloading ccxt-4.4.71-py2.py3-none-any.whl (5.7 MB)\n",
      "   ---------------------------------------- 0.0/5.7 MB ? eta -:--:--\n",
      "   ----------- ---------------------------- 1.6/5.7 MB 7.6 MB/s eta 0:00:01\n",
      "   --------------------------- ------------ 3.9/5.7 MB 9.0 MB/s eta 0:00:01\n",
      "   ---------------------------------- ----- 5.0/5.7 MB 8.2 MB/s eta 0:00:01\n",
      "   ---------------------------------------- 5.7/5.7 MB 8.3 MB/s eta 0:00:00\n",
      "Installing collected packages: ccxt\n",
      "  Attempting uninstall: ccxt\n",
      "    Found existing installation: ccxt 4.4.68\n",
      "    Uninstalling ccxt-4.4.68:\n",
      "      Successfully uninstalled ccxt-4.4.68\n",
      "Successfully installed ccxt-4.4.71\n",
      "Note: you may need to restart the kernel to use updated packages.\n"
     ]
    }
   ],
   "source": [
    "pip install --upgrade ccxt"
   ]
  },
  {
   "cell_type": "code",
   "execution_count": 2,
   "id": "0ad4e7fd-946e-49ff-8148-941840224b72",
   "metadata": {},
   "outputs": [
    {
     "name": "stdout",
     "output_type": "stream",
     "text": [
      "['ace', 'alpaca', 'ascendex', 'bequant', 'bigone', 'binance', 'binancecoinm', 'binanceus', 'binanceusdm', 'bingx', 'bit2c', 'bitbank', 'bitbns', 'bitcoincom', 'bitfinex', 'bitfinex1', 'bitflyer', 'bitget', 'bithumb', 'bitmart', 'bitmex', 'bitopro', 'bitpanda', 'bitrue', 'bitso', 'bitstamp', 'bitteam', 'bitvavo', 'bl3p', 'blockchaincom', 'blofin', 'btcalpha', 'btcbox', 'btcmarkets', 'btcturk', 'bybit', 'cex', 'coinbase', 'coinbaseadvanced', 'coinbaseexchange', 'coinbaseinternational', 'coincatch', 'coincheck', 'coinex', 'coinlist', 'coinmate', 'coinmetro', 'coinone', 'coinsph', 'coinspot', 'cryptocom', 'cryptomus', 'defx', 'delta', 'deribit', 'derive', 'digifinex', 'ellipx', 'exmo', 'fmfwio', 'gate', 'gateio', 'gemini', 'hashkey', 'hitbtc', 'hollaex', 'htx', 'huobi', 'huobijp', 'hyperliquid', 'idex', 'independentreserve', 'indodax', 'kraken', 'krakenfutures', 'kucoin', 'kucoinfutures', 'kuna', 'latoken', 'lbank', 'luno', 'mercado', 'mexc', 'myokx', 'ndax', 'novadax', 'oceanex', 'okcoin', 'okx', 'onetrading', 'oxfun', 'p2b', 'paradex', 'paymium', 'phemex', 'poloniex', 'probit', 'timex', 'tokocrypto', 'tradeogre', 'upbit', 'vertex', 'wavesexchange', 'whitebit', 'woo', 'woofipro', 'xt', 'yobit', 'zaif', 'zonda']\n"
     ]
    }
   ],
   "source": [
    "print(ccxt.exchanges)"
   ]
  },
  {
   "cell_type": "code",
   "execution_count": 1,
   "id": "cdb37879-8f7c-4b91-999b-d865a747cee0",
   "metadata": {},
   "outputs": [
    {
     "name": "stdout",
     "output_type": "stream",
     "text": [
      "4.4.71\n"
     ]
    }
   ],
   "source": [
    "import ccxt\n",
    "print(ccxt.__version__)"
   ]
  },
  {
   "cell_type": "code",
   "execution_count": null,
   "id": "0779141e-369d-4b5d-b079-e7784959a048",
   "metadata": {},
   "outputs": [],
   "source": [
    "!pip install --upgrade ccxt"
   ]
  },
  {
   "cell_type": "code",
   "execution_count": 2,
   "id": "817ce46b-a34b-46db-a41b-d655a5209767",
   "metadata": {},
   "outputs": [
    {
     "name": "stdout",
     "output_type": "stream",
     "text": [
      "4.4.71\n",
      "False\n"
     ]
    }
   ],
   "source": [
    "import ccxt\n",
    "print(ccxt.__version__)\n",
    "print('mexc3' in ccxt.exchanges)"
   ]
  },
  {
   "cell_type": "code",
   "execution_count": 3,
   "id": "88ee45da-0575-473d-b625-3541a5ddabb8",
   "metadata": {},
   "outputs": [
    {
     "name": "stdout",
     "output_type": "stream",
     "text": [
      "C:\\Users\\ASUS\\anaconda3\\Lib\\site-packages\\ccxt\\__init__.py\n"
     ]
    }
   ],
   "source": [
    "import ccxt\n",
    "print(ccxt.__file__)"
   ]
  },
  {
   "cell_type": "code",
   "execution_count": 4,
   "id": "b27eda9e-3d11-4a90-8ae6-cc1936abb577",
   "metadata": {},
   "outputs": [
    {
     "name": "stdout",
     "output_type": "stream",
     "text": [
      "Found existing installation: ccxt 4.4.71\n",
      "Uninstalling ccxt-4.4.71:\n",
      "  Successfully uninstalled ccxt-4.4.71\n"
     ]
    }
   ],
   "source": [
    "!pip uninstall -y ccxt"
   ]
  },
  {
   "cell_type": "code",
   "execution_count": 5,
   "id": "2ca68e94-ec0e-4c22-9275-b4195a6a8e28",
   "metadata": {},
   "outputs": [
    {
     "name": "stdout",
     "output_type": "stream",
     "text": [
      "Collecting ccxt\n",
      "  Using cached ccxt-4.4.71-py2.py3-none-any.whl.metadata (131 kB)\n",
      "Requirement already satisfied: setuptools>=60.9.0 in c:\\users\\asus\\anaconda3\\lib\\site-packages (from ccxt) (75.1.0)\n",
      "Requirement already satisfied: certifi>=2018.1.18 in c:\\users\\asus\\anaconda3\\lib\\site-packages (from ccxt) (2025.1.31)\n",
      "Requirement already satisfied: requests>=2.18.4 in c:\\users\\asus\\anaconda3\\lib\\site-packages (from ccxt) (2.32.3)\n",
      "Requirement already satisfied: cryptography>=2.6.1 in c:\\users\\asus\\anaconda3\\lib\\site-packages (from ccxt) (43.0.0)\n",
      "Requirement already satisfied: typing-extensions>=4.4.0 in c:\\users\\asus\\anaconda3\\lib\\site-packages (from ccxt) (4.11.0)\n",
      "Requirement already satisfied: aiohttp<=3.10.11 in c:\\users\\asus\\anaconda3\\lib\\site-packages (from ccxt) (3.10.5)\n",
      "Requirement already satisfied: aiodns>=1.1.1 in c:\\users\\asus\\anaconda3\\lib\\site-packages (from ccxt) (3.2.0)\n",
      "Requirement already satisfied: yarl>=1.7.2 in c:\\users\\asus\\anaconda3\\lib\\site-packages (from ccxt) (1.11.0)\n",
      "Requirement already satisfied: pycares>=4.0.0 in c:\\users\\asus\\anaconda3\\lib\\site-packages (from aiodns>=1.1.1->ccxt) (4.5.0)\n",
      "Requirement already satisfied: aiohappyeyeballs>=2.3.0 in c:\\users\\asus\\anaconda3\\lib\\site-packages (from aiohttp<=3.10.11->ccxt) (2.4.0)\n",
      "Requirement already satisfied: aiosignal>=1.1.2 in c:\\users\\asus\\anaconda3\\lib\\site-packages (from aiohttp<=3.10.11->ccxt) (1.2.0)\n",
      "Requirement already satisfied: attrs>=17.3.0 in c:\\users\\asus\\anaconda3\\lib\\site-packages (from aiohttp<=3.10.11->ccxt) (23.1.0)\n",
      "Requirement already satisfied: frozenlist>=1.1.1 in c:\\users\\asus\\anaconda3\\lib\\site-packages (from aiohttp<=3.10.11->ccxt) (1.4.0)\n",
      "Requirement already satisfied: multidict<7.0,>=4.5 in c:\\users\\asus\\anaconda3\\lib\\site-packages (from aiohttp<=3.10.11->ccxt) (6.0.4)\n",
      "Requirement already satisfied: cffi>=1.12 in c:\\users\\asus\\anaconda3\\lib\\site-packages (from cryptography>=2.6.1->ccxt) (1.17.1)\n",
      "Requirement already satisfied: charset-normalizer<4,>=2 in c:\\users\\asus\\anaconda3\\lib\\site-packages (from requests>=2.18.4->ccxt) (3.3.2)\n",
      "Requirement already satisfied: idna<4,>=2.5 in c:\\users\\asus\\anaconda3\\lib\\site-packages (from requests>=2.18.4->ccxt) (3.7)\n",
      "Requirement already satisfied: urllib3<3,>=1.21.1 in c:\\users\\asus\\anaconda3\\lib\\site-packages (from requests>=2.18.4->ccxt) (2.2.3)\n",
      "Requirement already satisfied: pycparser in c:\\users\\asus\\anaconda3\\lib\\site-packages (from cffi>=1.12->cryptography>=2.6.1->ccxt) (2.21)\n",
      "Using cached ccxt-4.4.71-py2.py3-none-any.whl (5.7 MB)\n",
      "Installing collected packages: ccxt\n",
      "Successfully installed ccxt-4.4.71\n"
     ]
    }
   ],
   "source": [
    "!pip install ccxt --upgrade"
   ]
  },
  {
   "cell_type": "code",
   "execution_count": 2,
   "id": "04927b4e-7b06-494c-bf69-a90d8b983be7",
   "metadata": {},
   "outputs": [
    {
     "name": "stdout",
     "output_type": "stream",
     "text": [
      "4.4.71\n",
      "False\n"
     ]
    }
   ],
   "source": [
    "import ccxt\n",
    "print(ccxt.__version__)\n",
    "print('mexc3' in ccxt.exchanges)"
   ]
  },
  {
   "cell_type": "code",
   "execution_count": 3,
   "id": "0f943c40-ba69-49ce-b123-af3bfda3390a",
   "metadata": {},
   "outputs": [
    {
     "name": "stdout",
     "output_type": "stream",
     "text": [
      "C:\\Users\\ASUS\\anaconda3\\Lib\\site-packages\\ccxt\\__init__.py\n",
      "['abstract', 'ace.py', 'alpaca.py', 'ascendex.py', 'async_support', 'base', 'bequant.py', 'bigone.py', 'binance.py', 'binancecoinm.py', 'binanceus.py', 'binanceusdm.py', 'bingx.py', 'bit2c.py', 'bitbank.py', 'bitbns.py', 'bitcoincom.py', 'bitfinex.py', 'bitfinex1.py', 'bitflyer.py', 'bitget.py', 'bithumb.py', 'bitmart.py', 'bitmex.py', 'bitopro.py', 'bitpanda.py', 'bitrue.py', 'bitso.py', 'bitstamp.py', 'bitteam.py', 'bitvavo.py', 'bl3p.py', 'blockchaincom.py', 'blofin.py', 'btcalpha.py', 'btcbox.py', 'btcmarkets.py', 'btcturk.py', 'bybit.py', 'cex.py', 'coinbase.py', 'coinbaseadvanced.py', 'coinbaseexchange.py', 'coinbaseinternational.py', 'coincatch.py', 'coincheck.py', 'coinex.py', 'coinlist.py', 'coinmate.py', 'coinmetro.py', 'coinone.py', 'coinsph.py', 'coinspot.py', 'cryptocom.py', 'cryptomus.py', 'defx.py', 'delta.py', 'deribit.py', 'derive.py', 'digifinex.py', 'ellipx.py', 'exmo.py', 'fmfwio.py', 'gate.py', 'gateio.py', 'gemini.py', 'hashkey.py', 'hitbtc.py', 'hollaex.py', 'htx.py', 'huobi.py', 'huobijp.py', 'hyperliquid.py', 'idex.py', 'independentreserve.py', 'indodax.py', 'kraken.py', 'krakenfutures.py', 'kucoin.py', 'kucoinfutures.py', 'kuna.py', 'latoken.py', 'lbank.py', 'luno.py', 'mercado.py', 'mexc.py', 'myokx.py', 'ndax.py', 'novadax.py', 'oceanex.py', 'okcoin.py', 'okx.py', 'onetrading.py', 'oxfun.py', 'p2b.py', 'paradex.py', 'paymium.py', 'phemex.py', 'poloniex.py', 'poloniexfutures.py', 'pro', 'probit.py', 'static_dependencies', 'test', 'timex.py', 'tokocrypto.py', 'tradeogre.py', 'upbit.py', 'vertex.py', 'wavesexchange.py', 'whitebit.py', 'woo.py', 'woofipro.py', 'xt.py', 'yobit.py', 'zaif.py', 'zonda.py', '__init__.py', '__pycache__']\n"
     ]
    }
   ],
   "source": [
    "import ccxt\n",
    "import os\n",
    "print(ccxt.__file__)\n",
    "print(os.listdir(os.path.dirname(ccxt.__file__)))"
   ]
  },
  {
   "cell_type": "code",
   "execution_count": null,
   "id": "e5123043-f81e-4b8d-a811-b7f697a27462",
   "metadata": {},
   "outputs": [],
   "source": []
  }
 ],
 "metadata": {
  "kernelspec": {
   "display_name": "Python [conda env:base] *",
   "language": "python",
   "name": "conda-base-py"
  },
  "language_info": {
   "codemirror_mode": {
    "name": "ipython",
    "version": 3
   },
   "file_extension": ".py",
   "mimetype": "text/x-python",
   "name": "python",
   "nbconvert_exporter": "python",
   "pygments_lexer": "ipython3",
   "version": "3.12.7"
  }
 },
 "nbformat": 4,
 "nbformat_minor": 5
}
