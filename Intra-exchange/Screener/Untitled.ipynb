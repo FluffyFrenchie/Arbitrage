{
 "cells": [
  {
   "cell_type": "code",
   "execution_count": 1,
   "id": "74f369b1-b50f-48d9-b1a6-c84abc3bf25c",
   "metadata": {},
   "outputs": [
    {
     "ename": "ModuleNotFoundError",
     "evalue": "No module named 'request'",
     "output_type": "error",
     "traceback": [
      "\u001b[1;31m---------------------------------------------------------------------------\u001b[0m",
      "\u001b[1;31mModuleNotFoundError\u001b[0m                       Traceback (most recent call last)",
      "Cell \u001b[1;32mIn[1], line 1\u001b[0m\n\u001b[1;32m----> 1\u001b[0m \u001b[38;5;28;01mimport\u001b[39;00m \u001b[38;5;21;01mrequest\u001b[39;00m\n",
      "\u001b[1;31mModuleNotFoundError\u001b[0m: No module named 'request'"
     ]
    }
   ],
   "source": [
    "import request"
   ]
  },
  {
   "cell_type": "code",
   "execution_count": 4,
   "id": "566b59c5-b133-4226-ba99-6c653cc55d6c",
   "metadata": {},
   "outputs": [
    {
     "name": "stdout",
     "output_type": "stream",
     "text": [
      "Requirement already satisfied: requests in c:\\users\\asus\\anaconda3\\lib\\site-packages (2.32.3)\n",
      "Requirement already satisfied: charset-normalizer<4,>=2 in c:\\users\\asus\\anaconda3\\lib\\site-packages (from requests) (3.3.2)\n",
      "Requirement already satisfied: idna<4,>=2.5 in c:\\users\\asus\\anaconda3\\lib\\site-packages (from requests) (3.7)\n",
      "Requirement already satisfied: urllib3<3,>=1.21.1 in c:\\users\\asus\\anaconda3\\lib\\site-packages (from requests) (2.2.3)\n",
      "Requirement already satisfied: certifi>=2017.4.17 in c:\\users\\asus\\anaconda3\\lib\\site-packages (from requests) (2025.1.31)\n",
      "Note: you may need to restart the kernel to use updated packages.\n"
     ]
    }
   ],
   "source": [
    "pip install requests"
   ]
  },
  {
   "cell_type": "code",
   "execution_count": 1,
   "id": "f22433d5-2fbf-4426-abdb-d4c12590d63a",
   "metadata": {},
   "outputs": [
    {
     "name": "stdout",
     "output_type": "stream",
     "text": [
      "200 {\"ok\":true,\"result\":{\"message_id\":11,\"from\":{\"id\":7570092528,\"is_bot\":true,\"first_name\":\"A\",\"username\":\"Qrypto_intraday_bot\"},\"chat\":{\"id\":8010042439,\"first_name\":\"John\",\"last_name\":\"Suhmill\",\"username\":\"jsuhmill\",\"type\":\"private\"},\"date\":1743097003,\"text\":\"\\u2705 Telegram test successful! This is a test message from your arbitrage bot.\"}}\n"
     ]
    }
   ],
   "source": [
    "import requests\n",
    "\n",
    "TELEGRAM_BOT_TOKEN = '7570092528:AAEe-BPQH5LqRq76vxDlxdtsFvhYlU6y7yg'\n",
    "TELEGRAM_CHAT_ID = '8010042439'  # Replace with the actual number from getUpdates\n",
    "\n",
    "def send_telegram_alert(message):\n",
    "    url = f\"https://api.telegram.org/bot{TELEGRAM_BOT_TOKEN}/sendMessage\"\n",
    "    data = {\"chat_id\": TELEGRAM_CHAT_ID, \"text\": message}\n",
    "    response = requests.post(url, data=data)\n",
    "    print(response.status_code, response.text)\n",
    "\n",
    "# 🔍 Send a test message\n",
    "send_telegram_alert(\"✅ Telegram test successful! This is a test message from your arbitrage bot.\")"
   ]
  },
  {
   "cell_type": "code",
   "execution_count": null,
   "id": "a6b5808f-3e22-49ac-b6b5-d9d37267762c",
   "metadata": {},
   "outputs": [],
   "source": []
  }
 ],
 "metadata": {
  "kernelspec": {
   "display_name": "Python [conda env:base] *",
   "language": "python",
   "name": "conda-base-py"
  },
  "language_info": {
   "codemirror_mode": {
    "name": "ipython",
    "version": 3
   },
   "file_extension": ".py",
   "mimetype": "text/x-python",
   "name": "python",
   "nbconvert_exporter": "python",
   "pygments_lexer": "ipython3",
   "version": "3.12.7"
  }
 },
 "nbformat": 4,
 "nbformat_minor": 5
}
